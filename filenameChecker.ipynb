{
 "cells": [
  {
   "cell_type": "markdown",
   "id": "ddd54ff3-4b66-4f9c-9137-e8274b94a9cf",
   "metadata": {},
   "source": [
    "to check the type of file provided"
   ]
  },
  {
   "cell_type": "code",
   "execution_count": 4,
   "id": "f703a05f-d912-4436-befd-98b33c7182c3",
   "metadata": {},
   "outputs": [
    {
     "name": "stdin",
     "output_type": "stream",
     "text": [
      "enter filename: janhavi.TXT\n"
     ]
    },
    {
     "name": "stdout",
     "output_type": "stream",
     "text": [
      "it's a Text file\n"
     ]
    }
   ],
   "source": [
    "filename=input(\"enter filename:\").lower()\n",
    "if filename.endswith(\".pdf\"):\n",
    "    print(\"it's a Pdf file\")\n",
    "elif filename.endswith(\".txt\"):\n",
    "    print(\"it's a Text file\")\n",
    "elif filename.endswith(\".xls\") or filename.endswith(\".xlsx\"):\n",
    "    print(\"it's an Excel file\")\n",
    "elif filename.endswith(\".doc\")or filename.endswith(\".docx\"):\n",
    "    print(\"it's a Doc file\")\n",
    "elif filename.endswith(\".ppt\")or filename.endswith(\".pptx\"):\n",
    "    print(\"it's a ppt file\")\n",
    "else:\n",
    "    print(\"filename doesn't exist in this database\")"
   ]
  },
  {
   "cell_type": "code",
   "execution_count": null,
   "id": "f5c7f011-2be7-4f6f-b8d3-bbe33849ee26",
   "metadata": {},
   "outputs": [],
   "source": []
  }
 ],
 "metadata": {
  "kernelspec": {
   "display_name": "Python [conda env:base] *",
   "language": "python",
   "name": "conda-base-py"
  },
  "language_info": {
   "codemirror_mode": {
    "name": "ipython",
    "version": 3
   },
   "file_extension": ".py",
   "mimetype": "text/x-python",
   "name": "python",
   "nbconvert_exporter": "python",
   "pygments_lexer": "ipython3",
   "version": "3.12.7"
  }
 },
 "nbformat": 4,
 "nbformat_minor": 5
}
